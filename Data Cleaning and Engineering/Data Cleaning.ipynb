{
 "cells": [
  {
   "cell_type": "markdown",
   "metadata": {},
   "source": [
    "##  Data Cleaning "
   ]
  },
  {
   "cell_type": "code",
   "execution_count": 1,
   "metadata": {},
   "outputs": [],
   "source": [
    "import pandas as pd \n",
    "from IPython.display import display\n",
    "from datetime import datetime as dt \n",
    "import numpy as np"
   ]
  },
  {
   "cell_type": "markdown",
   "metadata": {},
   "source": [
    "#### Loading data..."
   ]
  },
  {
   "cell_type": "code",
   "execution_count": 11,
   "metadata": {},
   "outputs": [],
   "source": [
    "df=pd.read_csv('/Users/dasha/Downloads/Crime_Data_from_2010_to_Present.csv',parse_dates=[['Date Occurred','Time Occurred']])"
   ]
  },
  {
   "cell_type": "markdown",
   "metadata": {},
   "source": [
    "#### Checking the types of variables "
   ]
  },
  {
   "cell_type": "code",
   "execution_count": 12,
   "metadata": {
    "scrolled": true
   },
   "outputs": [
    {
     "name": "stdout",
     "output_type": "stream",
     "text": [
      "<class 'pandas.core.frame.DataFrame'>\n",
      "RangeIndex: 1805537 entries, 0 to 1805536\n",
      "Data columns (total 25 columns):\n",
      "Date Occurred_Time Occurred    datetime64[ns]\n",
      "DR Number                      int64\n",
      "Date Reported                  object\n",
      "Area ID                        int64\n",
      "Area Name                      object\n",
      "Reporting District             int64\n",
      "Crime Code                     int64\n",
      "Crime Code Description         object\n",
      "MO Codes                       object\n",
      "Victim Age                     float64\n",
      "Victim Sex                     object\n",
      "Victim Descent                 object\n",
      "Premise Code                   float64\n",
      "Premise Description            object\n",
      "Weapon Used Code               float64\n",
      "Weapon Description             object\n",
      "Status Code                    object\n",
      "Status Description             object\n",
      "Crime Code 1                   float64\n",
      "Crime Code 2                   float64\n",
      "Crime Code 3                   float64\n",
      "Crime Code 4                   float64\n",
      "Address                        object\n",
      "Cross Street                   object\n",
      "Location                       object\n",
      "dtypes: datetime64[ns](1), float64(7), int64(4), object(13)\n",
      "memory usage: 344.4+ MB\n"
     ]
    }
   ],
   "source": [
    "df.info()"
   ]
  },
  {
   "cell_type": "markdown",
   "metadata": {},
   "source": [
    "#### Dropping unnecessary columns "
   ]
  },
  {
   "cell_type": "code",
   "execution_count": 13,
   "metadata": {},
   "outputs": [],
   "source": [
    "df=df.drop(columns=['DR Number','Date Reported','Reporting District','MO Codes','Crime Code','Area ID','Premise Code','Weapon Used Code','Status Code','Crime Code 1','Crime Code 2','Crime Code 3','Crime Code 4','Address','Cross Street'])"
   ]
  },
  {
   "cell_type": "code",
   "execution_count": 14,
   "metadata": {},
   "outputs": [
    {
     "name": "stdout",
     "output_type": "stream",
     "text": [
      "Number of rows: 1805537\n",
      "Number of missing rows for age,sec,descent combined:  476297\n"
     ]
    }
   ],
   "source": [
    "# Looking at missing values\n",
    "\n",
    "num_row=df.shape[0]\n",
    "print('Number of rows:', num_row)\n",
    "vic_age=df['Victim Age'].isna().sum()\n",
    "vic_sex=df['Victim Sex'].isna().sum()\n",
    "vic_des=df['Victim Descent'].isna().sum()\n",
    "vic_total=vic_age+vic_sex+vic_des\n",
    "print('Number of missing rows for age,sec,descent combined: ',vic_total) \n",
    "\n",
    "#NaN of 3 groups comprise approx. 1/4 of total data - will keep the NaN values since \n",
    "#some of that data will be useful for other calculations "
   ]
  },
  {
   "cell_type": "code",
   "execution_count": 15,
   "metadata": {},
   "outputs": [],
   "source": [
    "df['Victim Age'].fillna('Missing',inplace=True)\n",
    "df['Victim Sex'].fillna('Missing',inplace=True)\n",
    "df['Victim Descent'].fillna('Missing',inplace=True)"
   ]
  },
  {
   "cell_type": "code",
   "execution_count": 16,
   "metadata": {},
   "outputs": [
    {
     "name": "stdout",
     "output_type": "stream",
     "text": [
      "66.70491936747905\n"
     ]
    }
   ],
   "source": [
    "# How much data is missing in 'Weapoin Description'?\n",
    "print((df['Weapon Description'].isna().sum())/num_row*100)"
   ]
  },
  {
   "cell_type": "code",
   "execution_count": 17,
   "metadata": {},
   "outputs": [],
   "source": [
    "# Since the column is missing more than 66% of its data....\n",
    "df.drop(columns='Weapon Description',inplace=True)"
   ]
  },
  {
   "cell_type": "code",
   "execution_count": 18,
   "metadata": {},
   "outputs": [
    {
     "name": "stdout",
     "output_type": "stream",
     "text": [
      "0.17933722765027799\n"
     ]
    }
   ],
   "source": [
    "print((df['Premise Description'].isna().sum())/num_row*100)\n",
    "# Premise Description data is well populated and could be used in calculations "
   ]
  },
  {
   "cell_type": "code",
   "execution_count": 19,
   "metadata": {},
   "outputs": [],
   "source": [
    "# Will drop NaN values since number of missing data is insignificant \n",
    "df.dropna(subset=['Premise Description'],how='any',inplace=True)"
   ]
  },
  {
   "cell_type": "markdown",
   "metadata": {},
   "source": [
    "#### Final, clean data frame "
   ]
  },
  {
   "cell_type": "code",
   "execution_count": 20,
   "metadata": {},
   "outputs": [
    {
     "data": {
      "text/html": [
       "<div>\n",
       "<style scoped>\n",
       "    .dataframe tbody tr th:only-of-type {\n",
       "        vertical-align: middle;\n",
       "    }\n",
       "\n",
       "    .dataframe tbody tr th {\n",
       "        vertical-align: top;\n",
       "    }\n",
       "\n",
       "    .dataframe thead th {\n",
       "        text-align: right;\n",
       "    }\n",
       "</style>\n",
       "<table border=\"1\" class=\"dataframe\">\n",
       "  <thead>\n",
       "    <tr style=\"text-align: right;\">\n",
       "      <th></th>\n",
       "      <th>Date Occurred_Time Occurred</th>\n",
       "      <th>Area Name</th>\n",
       "      <th>Crime Code Description</th>\n",
       "      <th>Victim Age</th>\n",
       "      <th>Victim Sex</th>\n",
       "      <th>Victim Descent</th>\n",
       "      <th>Premise Description</th>\n",
       "      <th>Status Description</th>\n",
       "      <th>Location</th>\n",
       "    </tr>\n",
       "  </thead>\n",
       "  <tbody>\n",
       "    <tr>\n",
       "      <th>0</th>\n",
       "      <td>2013-03-11 18:00:00</td>\n",
       "      <td>77th Street</td>\n",
       "      <td>INTIMATE PARTNER - SIMPLE ASSAULT</td>\n",
       "      <td>30</td>\n",
       "      <td>F</td>\n",
       "      <td>W</td>\n",
       "      <td>MULTI-UNIT DWELLING (APARTMENT, DUPLEX, ETC)</td>\n",
       "      <td>Adult Other</td>\n",
       "      <td>(33.9829, -118.3338)</td>\n",
       "    </tr>\n",
       "    <tr>\n",
       "      <th>1</th>\n",
       "      <td>2010-01-22 23:00:00</td>\n",
       "      <td>Olympic</td>\n",
       "      <td>VEHICLE - STOLEN</td>\n",
       "      <td>Missing</td>\n",
       "      <td>Missing</td>\n",
       "      <td>Missing</td>\n",
       "      <td>STREET</td>\n",
       "      <td>Invest Cont</td>\n",
       "      <td>(34.0454, -118.3157)</td>\n",
       "    </tr>\n",
       "    <tr>\n",
       "      <th>2</th>\n",
       "      <td>2013-03-18 20:30:00</td>\n",
       "      <td>Southeast</td>\n",
       "      <td>VEHICLE - STOLEN</td>\n",
       "      <td>12</td>\n",
       "      <td>Missing</td>\n",
       "      <td>Missing</td>\n",
       "      <td>STREET</td>\n",
       "      <td>Invest Cont</td>\n",
       "      <td>(33.942, -118.2717)</td>\n",
       "    </tr>\n",
       "    <tr>\n",
       "      <th>3</th>\n",
       "      <td>2010-11-10 18:00:00</td>\n",
       "      <td>Southeast</td>\n",
       "      <td>VEHICLE - STOLEN</td>\n",
       "      <td>Missing</td>\n",
       "      <td>Missing</td>\n",
       "      <td>Missing</td>\n",
       "      <td>STREET</td>\n",
       "      <td>Invest Cont</td>\n",
       "      <td>(33.9572, -118.2717)</td>\n",
       "    </tr>\n",
       "    <tr>\n",
       "      <th>4</th>\n",
       "      <td>2014-01-04 23:00:00</td>\n",
       "      <td>Topanga</td>\n",
       "      <td>VANDALISM - MISDEAMEANOR ($399 OR UNDER)</td>\n",
       "      <td>84</td>\n",
       "      <td>M</td>\n",
       "      <td>W</td>\n",
       "      <td>SINGLE FAMILY DWELLING</td>\n",
       "      <td>Invest Cont</td>\n",
       "      <td>(34.2009, -118.6369)</td>\n",
       "    </tr>\n",
       "  </tbody>\n",
       "</table>\n",
       "</div>"
      ],
      "text/plain": [
       "  Date Occurred_Time Occurred    Area Name  \\\n",
       "0         2013-03-11 18:00:00  77th Street   \n",
       "1         2010-01-22 23:00:00      Olympic   \n",
       "2         2013-03-18 20:30:00    Southeast   \n",
       "3         2010-11-10 18:00:00    Southeast   \n",
       "4         2014-01-04 23:00:00      Topanga   \n",
       "\n",
       "                     Crime Code Description Victim Age Victim Sex  \\\n",
       "0         INTIMATE PARTNER - SIMPLE ASSAULT         30          F   \n",
       "1                          VEHICLE - STOLEN    Missing    Missing   \n",
       "2                          VEHICLE - STOLEN         12    Missing   \n",
       "3                          VEHICLE - STOLEN    Missing    Missing   \n",
       "4  VANDALISM - MISDEAMEANOR ($399 OR UNDER)         84          M   \n",
       "\n",
       "  Victim Descent                           Premise Description  \\\n",
       "0              W  MULTI-UNIT DWELLING (APARTMENT, DUPLEX, ETC)   \n",
       "1        Missing                                        STREET   \n",
       "2        Missing                                        STREET   \n",
       "3        Missing                                        STREET   \n",
       "4              W                        SINGLE FAMILY DWELLING   \n",
       "\n",
       "  Status Description             Location   \n",
       "0        Adult Other  (33.9829, -118.3338)  \n",
       "1        Invest Cont  (34.0454, -118.3157)  \n",
       "2        Invest Cont   (33.942, -118.2717)  \n",
       "3        Invest Cont  (33.9572, -118.2717)  \n",
       "4        Invest Cont  (34.2009, -118.6369)  "
      ]
     },
     "execution_count": 20,
     "metadata": {},
     "output_type": "execute_result"
    }
   ],
   "source": [
    "df.head()"
   ]
  }
 ],
 "metadata": {
  "kernelspec": {
   "display_name": "Python 3",
   "language": "python",
   "name": "python3"
  },
  "language_info": {
   "codemirror_mode": {
    "name": "ipython",
    "version": 3
   },
   "file_extension": ".py",
   "mimetype": "text/x-python",
   "name": "python",
   "nbconvert_exporter": "python",
   "pygments_lexer": "ipython3",
   "version": "3.6.5"
  }
 },
 "nbformat": 4,
 "nbformat_minor": 2
}
