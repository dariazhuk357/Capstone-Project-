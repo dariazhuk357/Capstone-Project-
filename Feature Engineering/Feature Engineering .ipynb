{
 "cells": [
  {
   "cell_type": "markdown",
   "metadata": {},
   "source": [
    "## Data Engineering "
   ]
  },
  {
   "cell_type": "code",
   "execution_count": 19,
   "metadata": {},
   "outputs": [],
   "source": [
    "import pandas as pd \n",
    "from IPython.display import display\n",
    "from datetime import datetime as dt \n",
    "import numpy as np"
   ]
  },
  {
   "cell_type": "markdown",
   "metadata": {},
   "source": [
    "### Loading Data..."
   ]
  },
  {
   "cell_type": "code",
   "execution_count": 20,
   "metadata": {
    "scrolled": true
   },
   "outputs": [
    {
     "name": "stderr",
     "output_type": "stream",
     "text": [
      "/anaconda3/lib/python3.6/site-packages/numpy/lib/arraysetops.py:472: FutureWarning: elementwise comparison failed; returning scalar instead, but in the future will perform elementwise comparison\n",
      "  mask |= (ar1 == a)\n"
     ]
    }
   ],
   "source": [
    "df=pd.read_csv('/Users/dasha/Downloads/Files/clean_dataframe.csv',index_col=[0],parse_dates=['Date Occurred_Time Occurred'])"
   ]
  },
  {
   "cell_type": "markdown",
   "metadata": {},
   "source": [
    "### Splitting datatime object into separate date and time columns "
   ]
  },
  {
   "cell_type": "code",
   "execution_count": 21,
   "metadata": {},
   "outputs": [],
   "source": [
    "df['Date Occurred']=df['Date Occurred_Time Occurred'].dt.date\n",
    "df['Time Occurred']=df['Date Occurred_Time Occurred'].dt.time\n",
    "df['Hour']=df['Date Occurred_Time Occurred'].dt.hour\n",
    "df['Minute']=df['Date Occurred_Time Occurred'].dt.minute\n",
    "df['Day_of_Month']=df['Date Occurred_Time Occurred'].dt.day \n",
    "df['Month']=df['Date Occurred_Time Occurred'].dt.month "
   ]
  },
  {
   "cell_type": "markdown",
   "metadata": {},
   "source": [
    "### For machine learning purposes...\n",
    "\n",
    "Engineering 'hour', 'min', 'day', 'month' columns as a function of sin and cos for machine learning purposes. This will give the machine learning model an essence of cyclic time "
   ]
  },
  {
   "cell_type": "code",
   "execution_count": 22,
   "metadata": {},
   "outputs": [],
   "source": [
    "df['Hour_sin'] = np.sin(df.Hour*2.*np.pi/24)\n",
    "df['Hour_cos'] = np.cos(df.Hour*2.*np.pi/24)\n",
    "df['Min_sin'] = np.sin(df.Minute*2.*np.pi/60*24)\n",
    "df['Min_cos'] = np.cos(df.Minute*2.*np.pi/60*24)\n",
    "df['Day_sin']=np.sin(df.Day_of_Month*2.*np.pi/31)\n",
    "df['Day_cos']=np.cos(df.Day_of_Month*2.*np.pi/31)\n",
    "df['Month_sin']=np.sin(df.Day_of_Month*2.*np.pi/12)\n",
    "df['Month_cos']=np.cos(df.Day_of_Month*2.*np.pi/12)"
   ]
  },
  {
   "cell_type": "markdown",
   "metadata": {},
   "source": [
    "### Breaking 'Crime Description' up into broader categories - creating 'Crime' dictionary  "
   ]
  },
  {
   "cell_type": "code",
   "execution_count": 23,
   "metadata": {},
   "outputs": [],
   "source": [
    "\n",
    "Crime={'Motor Vehicle and Transportation-Related Crime':['RECKLESS DRIVING',\n",
    "                                                'DRIVING WITHOUT OWNER CONSENT (DWOC)',\n",
    "                                                  'FAILURE TO YIELD','TRAIN WRECKING'],\n",
    "    'Sex-Related Crime':['INTIMATE PARTNER - SIMPLE ASSAULT',\n",
    "                            'INTIMATE PARTNER - AGGRAVATED ASSAULT',\n",
    "                            'SODOMY/SEXUAL CONTACT B/W PENIS OF ONE PERS TO ANUS OTH 0007=02',\n",
    "                            'INDECENT EXPOSURE',\n",
    "                            'RAPE, FORCIBLE',\n",
    "                            'SEXUAL PENTRATION WITH A FOREIGN OBJECT',\n",
    "                            'LETTERS, LEWD',\n",
    "                            'RAPE, ATTEMPTED',\n",
    "                            'LEWD CONDUCT',\n",
    "                            'BATTERY WITH SEXUAL CONTACT',\n",
    "                            'PIMPING',\n",
    "                            'BEASTIALITY, CRIME AGAINST NATURE SEXUAL ASSLT WITH ANIM0065',\n",
    "                            'BEASTIALITY, CRIME AGAINST NATURE SEXUAL ASSLT WITH ANIM',\n",
    "                            'PEEPING TOM',\n",
    "                            'SEX, UNLAWFUL',\n",
    "                            'ORAL COPULATION',\n",
    "                            'PANDERING',\n",
    "                            'INCEST (SEXUAL ACTS BETWEEN BLOOD RELATIVES)',\n",
    "                            'SEX,UNLAWFUL(INC MUTUAL CONSENT, PENETRATION W/ FRGN OBJ0059',\n",
    "                            'SEXUAL PENETRATION W/FOREIGN OBJECT',\n",
    "                            'LEWD/LASCIVIOUS ACTS WITH CHILD',\n",
    "                            'SEX,UNLAWFUL(INC MUTUAL CONSENT, PENETRATION W/ FRGN OBJ',\n",
    "                            'LETTERS, LEWD  -  TELEPHONE CALLS, LEWD',\n",
    "                            'SODOMY/SEXUAL CONTACT B/W PENIS OF ONE PERS TO ANUS OTH','BIGAMY'],\n",
    "    'Human Trafficking':['HUMAN TRAFFICKING - COMMERCIAL SEX ACTS',\n",
    "                            'HUMAN TRAFFICKING - INVOLUNTARY SERVITUDE'],\n",
    "    'Vandalism and Property Damage':['VANDALISM - MISDEAMEANOR ($399 OR UNDER)',\n",
    "                                        'VANDALISM - FELONY ($400 & OVER, ALL CHURCH VANDALISMS)',\n",
    "                                        'TELEPHONE PROPERTY - DAMAGE',\n",
    "                                        'VANDALISM - FELONY ($400 & OVER, ALL CHURCH VANDALISMS) 0114'],\n",
    "    'Kidnapping':['KIDNAPPING',\n",
    "                     'CHILD STEALING',\n",
    "                     'KIDNAPPING - GRAND ATTEMPT'],\n",
    "    'Criminal Threats':['CRIMINAL THREATS - NO WEAPON DISPLAYED',\n",
    "                           'STALKING','BOMB SCARE','BRANDISH WEAPON',\n",
    "                           'THREATENING PHONE CALLS/LETTERS'],\n",
    "    'Homocide':['CRIMINAL HOMICIDE',\n",
    "                   'LYNCHING - ATTEMPTED',\n",
    "                   'LYNCHING',\n",
    "                   'MANSLAUGHTER, NEGLIGENT'],\n",
    "    'Robbery and Theft':['THEFT-GRAND ($950.01 & OVER)EXCPT,GUNS,FOWL,LIVESTK,PROD',\n",
    "                            'EMBEZZLEMENT, GRAND THEFT ($950.01 & OVER)',\n",
    "                            'THEFT PLAIN - PETTY ($950 & UNDER)',\n",
    "                            'SHOPLIFTING - PETTY THEFT ($950 & UNDER)',\n",
    "                            'BIKE - STOLEN',\n",
    "                            'ROBBERY',\n",
    "                            'ATTEMPTED ROBBERY',\n",
    "                            'THEFT-GRAND ($950.01 & OVER)EXCPT,GUNS,FOWL,LIVESTK,PROD0036',\n",
    "                            'BURGLARY FROM VEHICLE',\n",
    "                            'BURGLARY','SHOPLIFTING-GRAND THEFT ($950.01 & OVER)',\n",
    "                            'THEFT, PERSON',\n",
    "                            'EXTORTION',\n",
    "                            'BURGLARY FROM VEHICLE, ATTEMPTED',\n",
    "                            'THEFT PLAIN - ATTEMPT',\n",
    "                            'THEFT FROM MOTOR VEHICLE - PETTY ($950 & UNDER)',\n",
    "                            'BURGLARY, ATTEMPTED',\n",
    "                            'THEFT FROM MOTOR VEHICLE - GRAND ($400 AND OVER)',\n",
    "                            'THEFT OF IDENTITY',\n",
    "                            'BUNCO, GRAND THEFT',\n",
    "                            'PURSE SNATCHING',\n",
    "                            'PROWLER',\n",
    "                            'VEHICLE - ATTEMPT STOLEN',\n",
    "                            'BIKE - ATTEMPTED STOLEN',\n",
    "                            'THEFT FROM PERSON - ATTEMPT',\n",
    "                            'PICKPOCKET',\n",
    "                            'VEHICLE - STOLEN','DISHONEST EMPLOYEE - PETTY THEFT',\n",
    "                            'BUNCO, ATTEMPT',\n",
    "                            'BUNCO, PETTY THEFT',\n",
    "                            'SHOPLIFTING - ATTEMPT',\n",
    "                            'PICKPOCKET, ATTEMPT',\n",
    "                            'PURSE SNATCHING - ATTEMPT',\n",
    "                            'THEFT FROM MOTOR VEHICLE - ATTEMPT',\n",
    "                            'DISHONEST EMPLOYEE - GRAND THEFT',\n",
    "                            'THEFT, COIN MACHINE - PETTY ($950 & UNDER)',\n",
    "                            'BOAT - STOLEN','TILL TAP - PETTY ($950 & UNDER)',\n",
    "                            'THEFT, COIN MACHINE - GRAND ($950.01 & OVER)',\n",
    "                            'GRAND THEFT / AUTO REPAIR',\n",
    "                            'PETTY THEFT - AUTO REPAIR',\n",
    "                            'TILL TAP - ATTEMPT',\n",
    "                            'TILL TAP - GRAND THEFT ($950.01 & OVER)',\n",
    "                            'DRUNK ROLL - ATTEMPT','THEFT, COIN MACHINE - ATTEMPT',\n",
    "                            'DISHONEST EMPLOYEE ATTEMPTED THEFT','DRUNK ROLL','EMBEZZLEMENT, PETTY THEFT ($950 & UNDER)'],\n",
    "    'Fraud and Bribery':['COUNTERFEIT','DEFRAUDING INNKEEPER/THEFT OF SERVICES, $400 & UNDER',\n",
    "                         'CREDIT CARDS, FRAUD USE ($950.01 & OVER)',\n",
    "                         'CREDIT CARDS, FRAUD USE ($950 & UNDER',\n",
    "                         'DOCUMENT WORTHLESS ($200.01 & OVER)',\n",
    "                         'BRIBERY',\n",
    "                         'DEFRAUDING INNKEEPER/THEFT OF SERVICES, OVER $400',\n",
    "                         'GRAND THEFT / INSURANCE FRAUD','DOCUMENT WORTHLESS ($200 & UNDER)',\n",
    "                         'DOCUMENT FORGERY / STOLEN FELONY'],\n",
    "    'Assault':['BATTERY - SIMPLE ASSAULT',\n",
    "               'ASSAULT WITH DEADLY WEAPON, AGGRAVATED ASSAULT',\n",
    "               'OTHER ASSAULT',\n",
    "               'INTIMATE PARTNER - AGGRAVATED ASSAULT',\n",
    "               'SHOTS FIRED AT INHABITED DWELLING',\n",
    "               'BATTERY POLICE (SIMPLE)',\n",
    "               'ASSAULT WITH DEADLY WEAPON ON POLICE OFFICER',\n",
    "               'BATTERY ON A FIREFIGHTER',\n",
    "               'SHOTS FIRED AT MOVING VEHICLE, TRAIN OR AIRCRAFT',\n",
    "               'THROWING OBJECT AT MOVING VEHICLE','DISCHARGE FIREARMS/SHOTS FIRED'],\n",
    "    'Violation of Orders or Resisting Arrest':['RESISTING ARREST',\n",
    "                                               'VIOLATION OF COURT ORDER',\n",
    "                                               'VIOLATION OF RESTRAINING ORDER',\n",
    "                                               'VIOLATION OF TEMPORARY RESTRAINING ORDER',\n",
    "                                               'FIREARMS RESTRAINING ORDER (FIREARMS RO)',\n",
    "                                               'CONTEMPT OF COURT'],\n",
    "    'Other':['OTHER MISCELLANEOUS CRIME',\n",
    "             'DISTURBING THE PEACE',\n",
    "             'CRUELTY TO ANIMALS',\n",
    "            'UNAUTHORIZED COMPUTER ACCESS',\n",
    "             'ILLEGAL DUMPING',\n",
    "             'FALSE POLICE REPORT',\n",
    "             'CONTRIBUTING',\n",
    "             'DISRUPT SCHOOL',\n",
    "             'BLOCKING DOOR INDUCTION CENTER',\n",
    "             'TRESPASSING',\n",
    "             'nan',\n",
    "             'FALSE IMPRISONMENT',\n",
    "             'CONSPIRACY',\n",
    "            'ABORTION/ILLEGAL',\n",
    "            'ARSON'], \n",
    "    'Weapon possession/Bombing':['WEAPONS POSSESSION/BOMBING'],\n",
    "    'Riots and Disruption of Peace':['INCITING A RIOT', \n",
    "                                        'FAILURE TO DISPERSE'],\n",
    "    'Child-Related Crime':['CHILD ABUSE (PHYSICAL) - SIMPLE ASSAULT',\n",
    "                           'CHILD NEGLECT (SEE 300 W.I.C.)',\n",
    "                           'CHILD ANNOYING (17YRS & UNDER)',\n",
    "                           'CRM AGNST CHLD (13 OR UNDER) (14-15 & SUSP 10 YRS OLDER)0060',\n",
    "                           'CHILD ABUSE (PHYSICAL) - AGGRAVATED ASSAULT',\n",
    "                           'CHILD ABANDONMENT','CHILD PORNOGRAPHY',\n",
    "                           'CRM AGNST CHLD (13 OR UNDER) (14-15 & SUSP 10 YRS OLDER)'],\n",
    "    'Unlawful Sales':['DRUGS, TO A MINOR','REPLICA FIREARMS(SALE,DISPLAY,MANUFACTURE OR DISTRIBUTE)0132',\n",
    "                      'REPLICA FIREARMS(SALE,DISPLAY,MANUFACTURE OR DISTRIBUTE)']}"
   ]
  },
  {
   "cell_type": "markdown",
   "metadata": {},
   "source": [
    "### Building a even more narrow classification for crime labels (compared to above)..."
   ]
  },
  {
   "cell_type": "code",
   "execution_count": 24,
   "metadata": {},
   "outputs": [],
   "source": [
    "\n",
    "crime_detailed={'Reckless Driving':['RECKLESS DRIVING',\n",
    "                                    'FAILURE TO YIELD',\n",
    "                                    'TRAIN WRECKING'],\n",
    "                'Driving Without Owner Consent':['DRIVING WITHOUT OWNER CONSENT (DWOC)'],\n",
    "                'Rape and Sexual Assault/Battery':['INTIMATE PARTNER - SIMPLE ASSAULT',\n",
    "                                                   'INTIMATE PARTNER - AGGRAVATED ASSAULT',\n",
    "                                                   'BATTERY WITH SEXUAL CONTACT',\n",
    "                                                   'RAPE, ATTEMPTED',\n",
    "                                                   'RAPE, FORCIBLE'],\n",
    "                'Sodomy':['SODOMY/SEXUAL CONTACT B/W PENIS OF ONE PERS TO ANUS OTH 0007=02',\n",
    "                          'ORAL COPULATION',\n",
    "                          'SEXUAL PENTRATION WITH A FOREIGN OBJECT',\n",
    "                          'SEXUAL PENETRATION W/FOREIGN OBJECT',\n",
    "                          'SODOMY/SEXUAL CONTACT B/W PENIS OF ONE PERS TO ANUS OTH'],\n",
    "                'Indecency/Lewd Conduct':['INDECENT EXPOSURE',\n",
    "                                          'LETTERS, LEWD',\n",
    "                                          'LEWD CONDUCT',\n",
    "                                          'PEEPING TOM',\n",
    "                                          'LETTERS, LEWD  -  TELEPHONE CALLS, LEWD'],\n",
    "                'Prostitution':['PIMPING'],\n",
    "                'Unlawful Sex':['SEX, UNLAWFUL',\n",
    "                                'SEX,UNLAWFUL(INC MUTUAL CONSENT, PENETRATION W/ FRGN OBJ0059',\n",
    "                                'SEX,UNLAWFUL(INC MUTUAL CONSENT, PENETRATION W/ FRGN OBJ'],\n",
    "                'Other Sexual Crime':['BEASTIALITY, CRIME AGAINST NATURE SEXUAL ASSLT WITH ANIM0065',\n",
    "                                      'BEASTIALITY, CRIME AGAINST NATURE SEXUAL ASSLT WITH ANIM',\n",
    "                                      'PANDERING',\n",
    "                                      'INCEST (SEXUAL ACTS BETWEEN BLOOD RELATIVES)','BIGAMY'], \n",
    "                'Human Trafficking':['HUMAN TRAFFICKING - COMMERCIAL SEX ACTS',\n",
    "                                     'HUMAN TRAFFICKING - INVOLUNTARY SERVITUDE'],\n",
    "                'Vandalism and Property Damage':['VANDALISM - MISDEAMEANOR ($399 OR UNDER)',\n",
    "                                                 'VANDALISM - FELONY ($400 & OVER, ALL CHURCH VANDALISMS)',\n",
    "                                                 'TELEPHONE PROPERTY - DAMAGE',\n",
    "                                                 'VANDALISM - FELONY ($400 & OVER, ALL CHURCH VANDALISMS) 0114'],\n",
    "                'Kidnapping':['KIDNAPPING',\n",
    "                              'CHILD STEALING',\n",
    "                              'KIDNAPPING - GRAND ATTEMPT'],\n",
    "                'Criminal Threats w/o Weapon':['CRIMINAL THREATS - NO WEAPON DISPLAYED'],\n",
    "                'Criminal Threats w/Weapon':['BRANDISH WEAPON'],\n",
    "                'Harassment':['STALKING',\n",
    "                              'THREATENING PHONE CALLS/LETTERS'],\n",
    "                'Homocide':['CRIMINAL HOMICIDE',\n",
    "                            'LYNCHING - ATTEMPTED',\n",
    "                            'LYNCHING',\n",
    "                            'MANSLAUGHTER, NEGLIGENT'],\n",
    "                'Theft From a Person':['THEFT, PERSON','THEFT FROM PERSON - ATTEMPT'],\n",
    "                'Shoplifting':['SHOPLIFTING - PETTY THEFT ($950 & UNDER)',\n",
    "                               'SHOPLIFTING - ATTEMPT',\n",
    "                               'SHOPLIFTING-GRAND THEFT ($950.01 & OVER)'],\n",
    "                'Theft/Burglary From a Vehicle':['THEFT FROM MOTOR VEHICLE - GRAND ($400 AND OVER)',\n",
    "                                                 'THEFT FROM MOTOR VEHICLE - PETTY ($950 & UNDER)',\n",
    "                                                 'THEFT FROM MOTOR VEHICLE - ATTEMPT',\n",
    "                                                 'BURGLARY FROM VEHICLE',\n",
    "                                                 'BURGLARY FROM VEHICLE, ATTEMPTED'],\n",
    "                'Petty Theft':['THEFT PLAIN - PETTY ($950 & UNDER)',\n",
    "                                       'THEFT PLAIN - ATTEMPT',\n",
    "                                       'THEFT, COIN MACHINE - PETTY ($950 & UNDER)',\n",
    "                                       'PETTY THEFT - AUTO REPAIR',\n",
    "                                       'EMBEZZLEMENT, PETTY THEFT ($950 & UNDER)',\n",
    "                                       'DISHONEST EMPLOYEE ATTEMPTED THEFT',\n",
    "                                       'THEFT, COIN MACHINE - ATTEMPT',\n",
    "                                       'TILL TAP - ATTEMPT',\n",
    "                                       'DISHONEST EMPLOYEE - PETTY THEFT',\n",
    "                                       'TILL TAP - PETTY ($950 & UNDER)',\n",
    "                                       'BUNCO, PETTY THEFT',\n",
    "                                       'BUNCO, ATTEMPT'],\n",
    "                'Grand Theft':['THEFT-GRAND ($950.01 & OVER)EXCPT,GUNS,FOWL,LIVESTK,PROD',\n",
    "                                       'EMBEZZLEMENT, GRAND THEFT ($950.01 & OVER)',\n",
    "                                       'THEFT-GRAND ($950.01 & OVER)EXCPT,GUNS,FOWL,LIVESTK,PROD0036',\n",
    "                                       'TILL TAP - GRAND THEFT ($950.01 & OVER)',\n",
    "                                       'BUNCO, GRAND THEFT',\n",
    "                                       'DISHONEST EMPLOYEE - GRAND THEFT',\n",
    "                                       'GRAND THEFT / AUTO REPAIR',\n",
    "                                       'THEFT, COIN MACHINE - GRAND ($950.01 & OVER)'],\n",
    "                'Vehicle/Transportation Theft':['BIKE - STOLEN',\n",
    "                                                'VEHICLE - STOLEN',\n",
    "                                                'BOAT - STOLEN',\n",
    "                                                'BIKE - ATTEMPTED STOLEN',\n",
    "                                                'VEHICLE - ATTEMPT STOLEN'],\n",
    "                'Robbery':['ROBBERY','ATTEMPTED ROBBERY'],\n",
    "                'Burglary':['BURGLARY, ATTEMPTED','BURGLARY'],\n",
    "                'Pickpocketing/Purse Snatching': ['PICKPOCKET',\n",
    "                                                  'PICKPOCKET, ATTEMPT',\n",
    "                                                  'PURSE SNATCHING - ATTEMPT',\n",
    "                                                  'PURSE SNATCHING',\n",
    "                                                  'DRUNK ROLL - ATTEMPT',\n",
    "                                                  'DRUNK ROLL'],\n",
    "                'Other Theft':['EXTORTION',\n",
    "                               'PROWLER'],\n",
    "                'Fraud':['DEFRAUDING INNKEEPER/THEFT OF SERVICES, $400 & UNDER',\n",
    "                                 'DEFRAUDING INNKEEPER/THEFT OF SERVICES, OVER $400',\n",
    "                                 'GRAND THEFT / INSURANCE FRAUD',\n",
    "                                 'CREDIT CARDS, FRAUD USE ($950.01 & OVER)',\n",
    "                                 'CREDIT CARDS, FRAUD USE ($950 & UNDER',\n",
    "                                 'BRIBERY'],\n",
    "                'Identity Theft': ['THEFT OF IDENTITY'],\n",
    "                'Forgery and Counterfeit':['COUNTERFEIT',\n",
    "                                           'DOCUMENT WORTHLESS ($200.01 & OVER)',\n",
    "                                           'DOCUMENT WORTHLESS ($200 & UNDER)',\n",
    "                                           'DOCUMENT FORGERY / STOLEN FELONY'],\n",
    "                'Battery and Simple Assault':['BATTERY - SIMPLE ASSAULT',\n",
    "                                              'BATTERY POLICE (SIMPLE)',\n",
    "                                              'BATTERY ON A FIREFIGHTER',\n",
    "                                              'THROWING OBJECT AT MOVING VEHICLE'],\n",
    "                'Other Assault':['OTHER ASSAULT'],\n",
    "                'Assault w/Deadly Weapon':['ASSAULT WITH DEADLY WEAPON, AGGRAVATED ASSAULT',\n",
    "                                           'SHOTS FIRED AT INHABITED DWELLING',\n",
    "                                           'ASSAULT WITH DEADLY WEAPON ON POLICE OFFICER',\n",
    "                                           'SHOTS FIRED AT MOVING VEHICLE, TRAIN OR AIRCRAFT',\n",
    "                                           'DISCHARGE FIREARMS/SHOTS FIRED'],\n",
    "                'Violation of Court Orders/Resisting Arrest':['RESISTING ARREST',\n",
    "                                                              'VIOLATION OF COURT ORDER',\n",
    "                                                              'VIOLATION OF RESTRAINING ORDER',\n",
    "                                                              'VIOLATION OF TEMPORARY RESTRAINING ORDER',\n",
    "                                                              'FIREARMS RESTRAINING ORDER (FIREARMS RO)',\n",
    "                                                              'CONTEMPT OF COURT'],\n",
    "                'Trespassing':['TRESPASSING'],\n",
    "                'Other':['OTHER MISCELLANEOUS CRIME',\n",
    "                         'CRUELTY TO ANIMALS','UNAUTHORIZED COMPUTER ACCESS','ILLEGAL DUMPING','FALSE POLICE REPORT',\n",
    "                         'CONTRIBUTING',\n",
    "                         'DISRUPT SCHOOL',\n",
    "                         'FALSE IMPRISONMENT',\n",
    "                         'BLOCKING DOOR INDUCTION CENTER',\n",
    "                         'nan',\n",
    "                         'ARSON',\n",
    "                         'CONSPIRACY',\n",
    "                         'ABORTION/ILLEGAL'],\n",
    "                'Riots and Disruption of Peace':['DISTURBING THE PEACE',\n",
    "                                                 'FAILURE TO DISPERSE',\n",
    "                                                 'INCITING A RIOT'],\n",
    "                'Weapon possession/Bombing':['WEAPONS POSSESSION/BOMBING',\n",
    "                                             'BOMB SCARE'],\n",
    "                'Physical Child Abuse': ['CHILD ABUSE (PHYSICAL) - SIMPLE ASSAULT',\n",
    "                                         'CHILD ABUSE (PHYSICAL) - AGGRAVATED ASSAULT'], \n",
    "                'Child Neglect and Abandonment':['CHILD NEGLECT (SEE 300 W.I.C.)',\n",
    "                                                 'CHILD ABANDONMENT'],\n",
    "                'Child Sexual Abuse':['CHILD PORNOGRAPHY',\n",
    "                                      'LEWD/LASCIVIOUS ACTS WITH CHILD'],\n",
    "                'Other Child Abuse':['CHILD ANNOYING (17YRS & UNDER)',\n",
    "                                     'CRM AGNST CHLD (13 OR UNDER) (14-15 & SUSP 10 YRS OLDER)0060',\n",
    "                                     'CRM AGNST CHLD (13 OR UNDER) (14-15 & SUSP 10 YRS OLDER)'],\n",
    "                'Unlawful Sales of Drugs and Weapons':['DRUGS, TO A MINOR',\n",
    "                                                       'REPLICA FIREARMS(SALE,DISPLAY,MANUFACTURE OR DISTRIBUTE)0132',\n",
    "                                                       'REPLICA FIREARMS(SALE,DISPLAY,MANUFACTURE OR DISTRIBUTE)']}"
   ]
  },
  {
   "cell_type": "code",
   "execution_count": 25,
   "metadata": {},
   "outputs": [],
   "source": [
    "# Make sure the crime description column is a str type\n",
    "df['Crime Code Description']=df['Crime Code Description'].astype('str')"
   ]
  },
  {
   "cell_type": "markdown",
   "metadata": {},
   "source": [
    " Reverse the 'Crime' dictionary to identify each crime as a subset of broad crimes"
   ]
  },
  {
   "cell_type": "code",
   "execution_count": 26,
   "metadata": {},
   "outputs": [],
   "source": [
    "reverse_crime={val: key for key in Crime for val in Crime[key]}"
   ]
  },
  {
   "cell_type": "code",
   "execution_count": 27,
   "metadata": {},
   "outputs": [],
   "source": [
    "# Creating a new column from a broad dictionary \n",
    "df['Crime']=df['Crime Code Description'].map(reverse_crime)"
   ]
  },
  {
   "cell_type": "markdown",
   "metadata": {},
   "source": [
    "Reverse the 'crime_detailed' dictionary to identify each crime as a subset of narrow crimes"
   ]
  },
  {
   "cell_type": "code",
   "execution_count": 28,
   "metadata": {},
   "outputs": [],
   "source": [
    "reverse_detailed_crime={val: key for key in crime_detailed for val in crime_detailed[key]}"
   ]
  },
  {
   "cell_type": "code",
   "execution_count": 29,
   "metadata": {},
   "outputs": [],
   "source": [
    "# Creating a new column from a narrow dictionary \n",
    "df['Crime_Detailed']=df['Crime Code Description'].map(reverse_detailed_crime)"
   ]
  },
  {
   "cell_type": "markdown",
   "metadata": {},
   "source": [
    "  "
   ]
  },
  {
   "cell_type": "code",
   "execution_count": 30,
   "metadata": {},
   "outputs": [],
   "source": [
    "# Replace a difficult name in 'Premise Description'\n",
    "df['Premise Description']=df['Premise Description'].replace({'MULTI-UNIT DWELLING (APARTMENT, DUPLEX, ETC)':'MULTI-UNIT DWELLING'})"
   ]
  },
  {
   "cell_type": "markdown",
   "metadata": {},
   "source": [
    "### Are there any NaNs after new variables creation?  "
   ]
  },
  {
   "cell_type": "code",
   "execution_count": 31,
   "metadata": {},
   "outputs": [
    {
     "data": {
      "text/plain": [
       "True"
      ]
     },
     "execution_count": 31,
     "metadata": {},
     "output_type": "execute_result"
    }
   ],
   "source": [
    "# Checking to see if the \"Crime\" column does not contains any NaNs \n",
    "df['Crime'].notnull().all().all()"
   ]
  },
  {
   "cell_type": "code",
   "execution_count": 32,
   "metadata": {},
   "outputs": [
    {
     "data": {
      "text/plain": [
       "True"
      ]
     },
     "execution_count": 32,
     "metadata": {},
     "output_type": "execute_result"
    }
   ],
   "source": [
    "# Checking to see if the \"Crime_Detailed\" column does not contains any NaNs \n",
    "df['Crime_Detailed'].notnull().all().all()"
   ]
  },
  {
   "cell_type": "code",
   "execution_count": 33,
   "metadata": {},
   "outputs": [
    {
     "data": {
      "text/plain": [
       "True"
      ]
     },
     "execution_count": 33,
     "metadata": {},
     "output_type": "execute_result"
    }
   ],
   "source": [
    "# Checking if the whole data_frame does not contains any NaNs \n",
    "df.notnull().all().all()"
   ]
  }
 ],
 "metadata": {
  "kernelspec": {
   "display_name": "Python 3",
   "language": "python",
   "name": "python3"
  },
  "language_info": {
   "codemirror_mode": {
    "name": "ipython",
    "version": 3
   },
   "file_extension": ".py",
   "mimetype": "text/x-python",
   "name": "python",
   "nbconvert_exporter": "python",
   "pygments_lexer": "ipython3",
   "version": "3.6.5"
  }
 },
 "nbformat": 4,
 "nbformat_minor": 2
}
